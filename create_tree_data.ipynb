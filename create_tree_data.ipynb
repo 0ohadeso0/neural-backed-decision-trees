{
 "cells": [
  {
   "cell_type": "code",
   "execution_count": 122,
   "metadata": {
    "autoscroll": false,
    "collapsed": false,
    "ein.hycell": false,
    "ein.tags": "worksheet-0",
    "slideshow": {
     "slide_type": "-"
    }
   },
   "outputs": [
    {
     "name": "stdout",
     "output_type": "stream",
     "text": [
      "{'synset': [{'_wnid': 'n02691156'}, {'_wnid': 'n04194289'}], '_wnid': 'n03125870'}\n"
     ]
    }
   ],
   "source": [
    "import json\n",
    "\n",
    "tree_json = 'new_tree_cifar10.json'\n",
    "tree_json = json.load(open(tree_json, 'r'))\n",
    "#root = tree_json['ImageNetStructure']['synset']\n",
    "root = tree_json['tree']['synset']\n",
    "print(root['synset'][1]['synset'][0])\n"
   ]
  },
  {
   "cell_type": "code",
   "execution_count": 123,
   "metadata": {
    "autoscroll": false,
    "collapsed": false,
    "ein.hycell": false,
    "ein.tags": "worksheet-0",
    "slideshow": {
     "slide_type": "-"
    }
   },
   "outputs": [],
   "source": [
    "\n",
    "def format_tree(tree_dict, parent_wnid):\n",
    "    tree = {}\n",
    "\n",
    "    if 'synset' in tree_dict.keys():\n",
    "        children = []\n",
    "        if type(tree_dict['synset']) != list:\n",
    "            tree_dict['synset'] = [tree_dict['synset']]\n",
    "\n",
    "        for c in tree_dict['synset']:\n",
    "            new_child = format_tree(c, tree_dict['_wnid'])\n",
    "            children.append(new_child)\n",
    "\n",
    "        tree['children'] = children\n",
    "        tree['parent'] = parent_wnid\n",
    "        tree['name'] = tree_dict['_wnid']\n",
    "        tree['leaf'] = \"False\"\n",
    "        return tree\n",
    "    else:\n",
    "        # at a leaf node\n",
    "        # tree_dict of form:\n",
    "        # {\n",
    "        #  '_gloss': description of category\n",
    "        #  '_wnid': wnid for category\n",
    "        #  '_words': names of objects in category, includes class name\n",
    "        # }\n",
    "        child = {\n",
    "            'name': tree_dict['_wnid'],\n",
    "            'parent': parent_wnid,\n",
    "            #'class': tree_dict['_words'].split(',')[0],\n",
    "            'leaf': \"True\"\n",
    "        }\n",
    "        return child\n",
    "\n",
    "\n",
    "\n"
   ]
  },
  {
   "cell_type": "code",
   "execution_count": 124,
   "metadata": {
    "autoscroll": false,
    "collapsed": false,
    "ein.hycell": false,
    "ein.tags": "worksheet-0",
    "slideshow": {
     "slide_type": "-"
    }
   },
   "outputs": [
    {
     "name": "stdout",
     "output_type": "stream",
     "text": [
      "{'children': [{'children': [{'name': 'n01639765', 'parent': 'n01471682', 'leaf': 'True'}, {'children': [{'children': [{'name': 'n02084071', 'parent': 'n02075296', 'leaf': 'True'}, {'name': 'n02121620', 'parent': 'n02075296', 'leaf': 'True'}], 'parent': 'n01886756', 'name': 'n02075296', 'leaf': 'False'}, {'children': [{'name': 'n02430045', 'parent': 'n02370806', 'leaf': 'True'}, {'name': 'n02374451', 'parent': 'n02370806', 'leaf': 'True'}], 'parent': 'n01886756', 'name': 'n02370806', 'leaf': 'False'}], 'parent': 'n01471682', 'name': 'n01886756', 'leaf': 'False'}, {'name': 'n01503061', 'parent': 'n01471682', 'leaf': 'True'}], 'parent': 'n00003553', 'name': 'n01471682', 'leaf': 'False'}, {'children': [{'children': [{'name': 'n02691156', 'parent': 'n03125870', 'leaf': 'True'}, {'name': 'n04194289', 'parent': 'n03125870', 'leaf': 'True'}], 'parent': 'n03575240', 'name': 'n03125870', 'leaf': 'False'}, {'children': [{'name': 'n02958343', 'parent': 'n03791235', 'leaf': 'True'}, {'name': 'n04490091', 'parent': 'n03791235', 'leaf': 'True'}], 'parent': 'n03575240', 'name': 'n03791235', 'leaf': 'False'}], 'parent': 'n00003553', 'name': 'n03575240', 'leaf': 'False'}], 'parent': 'root', 'name': 'n00003553', 'leaf': 'False'}\n"
     ]
    }
   ],
   "source": [
    "tree_data = format_tree(root, 'root')\n",
    "print(tree_data)"
   ]
  },
  {
   "cell_type": "code",
   "execution_count": 125,
   "metadata": {
    "autoscroll": false,
    "collapsed": false,
    "ein.hycell": false,
    "ein.tags": "worksheet-0",
    "slideshow": {
     "slide_type": "-"
    }
   },
   "outputs": [],
   "source": [
    "json.dump(tree_data, open('new_cifar10_d3.json', 'w'))"
   ]
  },
  {
   "cell_type": "code",
   "execution_count": 126,
   "metadata": {
    "autoscroll": false,
    "collapsed": false,
    "ein.hycell": false,
    "ein.tags": "worksheet-0",
    "slideshow": {
     "slide_type": "-"
    }
   },
   "outputs": [
    {
     "data": {
      "text/plain": [
       "{'children': [{'children': [{'name': 'n01639765',\n     'parent': 'n01471682',\n     'leaf': 'True'},\n    {'children': [{'children': [{'name': 'n02084071',\n         'parent': 'n02075296',\n         'leaf': 'True'},\n        {'name': 'n02121620', 'parent': 'n02075296', 'leaf': 'True'}],\n       'parent': 'n01886756',\n       'name': 'n02075296',\n       'leaf': 'False'},\n      {'children': [{'name': 'n02430045',\n         'parent': 'n02370806',\n         'leaf': 'True'},\n        {'name': 'n02374451', 'parent': 'n02370806', 'leaf': 'True'}],\n       'parent': 'n01886756',\n       'name': 'n02370806',\n       'leaf': 'False'}],\n     'parent': 'n01471682',\n     'name': 'n01886756',\n     'leaf': 'False'},\n    {'name': 'n01503061', 'parent': 'n01471682', 'leaf': 'True'}],\n   'parent': 'n00003553',\n   'name': 'n01471682',\n   'leaf': 'False'},\n  {'children': [{'children': [{'name': 'n02691156',\n       'parent': 'n03125870',\n       'leaf': 'True'},\n      {'name': 'n04194289', 'parent': 'n03125870', 'leaf': 'True'}],\n     'parent': 'n03575240',\n     'name': 'n03125870',\n     'leaf': 'False'},\n    {'children': [{'name': 'n02958343', 'parent': 'n03791235', 'leaf': 'True'},\n      {'name': 'n04490091', 'parent': 'n03791235', 'leaf': 'True'}],\n     'parent': 'n03575240',\n     'name': 'n03791235',\n     'leaf': 'False'}],\n   'parent': 'n00003553',\n   'name': 'n03575240',\n   'leaf': 'False'}],\n 'parent': 'root',\n 'name': 'n00003553',\n 'leaf': 'False'}"
      ]
     },
     "execution_count": 126,
     "metadata": {},
     "output_type": "execute_result"
    }
   ],
   "source": [
    "tree_data"
   ]
  }
 ],
 "metadata": {
  "kernelspec": {
   "argv": [
    "python",
    "-m",
    "ipykernel_launcher",
    "-f",
    "{connection_file}"
   ],
   "display_name": "Python 3",
   "env": null,
   "interrupt_mode": "signal",
   "language": "python",
   "metadata": null,
   "name": "python3"
  },
  "name": "create_tree_data.ipynb"
 },
 "nbformat": 4,
 "nbformat_minor": 2
}
