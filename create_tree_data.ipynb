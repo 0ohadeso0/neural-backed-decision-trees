{
 "cells": [
  {
   "cell_type": "code",
   "execution_count": 90,
   "metadata": {
    "autoscroll": false,
    "collapsed": false,
    "ein.hycell": false,
    "ein.tags": "worksheet-0",
    "slideshow": {
     "slide_type": "-"
    }
   },
   "outputs": [],
   "source": [
    "import json\n",
    "\n",
    "tree_json = 'tree.json'\n",
    "tree_json = json.load(open(tree_json, 'r'))\n",
    "root = tree_json['ImageNetStructure']['synset']\n",
    "\n"
   ]
  },
  {
   "cell_type": "code",
   "execution_count": 91,
   "metadata": {
    "autoscroll": false,
    "collapsed": false,
    "ein.hycell": false,
    "ein.tags": "worksheet-0",
    "slideshow": {
     "slide_type": "-"
    }
   },
   "outputs": [],
   "source": [
    "\n",
    "def format_tree(tree_dict, parent_wnid):\n",
    "    tree = {}\n",
    "\n",
    "    if 'synset' in tree_dict.keys():\n",
    "        children = []\n",
    "        if type(tree_dict['synset']) != list:\n",
    "            tree_dict['synset'] = [tree_dict['synset']]\n",
    "\n",
    "        for c in tree_dict['synset']:\n",
    "            new_child = format_tree(c, tree_dict['_wnid'])\n",
    "            children.append(new_child)\n",
    "\n",
    "        tree['children'] = children\n",
    "        tree['parent'] = parent_wnid\n",
    "        tree['name'] = tree_dict['_wnid']\n",
    "        tree['leaf'] = \"False\"\n",
    "        return tree\n",
    "    else:\n",
    "        # at a leaf node\n",
    "        # tree_dict of form:\n",
    "        # {\n",
    "        #  '_gloss': description of category\n",
    "        #  '_wnid': wnid for category\n",
    "        #  '_words': names of objects in category, includes class name\n",
    "        # }\n",
    "        child = {\n",
    "            'name': tree_dict['_wnid'],\n",
    "            'parent': parent_wnid,\n",
    "            'class': tree_dict['_words'].split(',')[0],\n",
    "            'leaf': \"True\"\n",
    "        }\n",
    "        return child\n",
    "\n",
    "\n",
    "\n"
   ]
  },
  {
   "cell_type": "code",
   "execution_count": 92,
   "metadata": {
    "autoscroll": false,
    "collapsed": false,
    "ein.hycell": false,
    "ein.tags": "worksheet-0",
    "slideshow": {
     "slide_type": "-"
    }
   },
   "outputs": [
    {
     "name": "stdout",
     "output_type": "stream",
     "text": [
      "{'children': [{'children': [{'children': [{'children': [{'name': 'n02958343', 'parent': 'n03791235', 'class': 'car', 'leaf': 'True'}, {'name': 'n04490091', 'parent': 'n03791235', 'class': 'truck', 'leaf': 'True'}], 'parent': 'n04524313', 'name': 'n03791235', 'leaf': 'False'}, {'children': [{'name': 'n02691156', 'parent': 'n03125870', 'class': 'airplane', 'leaf': 'True'}, {'name': 'n04194289', 'parent': 'n03125870', 'class': 'ship', 'leaf': 'True'}], 'parent': 'n04524313', 'name': 'n03125870', 'leaf': 'False'}], 'parent': 'n03575240', 'name': 'n04524313', 'leaf': 'False'}], 'parent': 'fall11', 'name': 'n03575240', 'leaf': 'False'}, {'children': [{'children': [{'name': 'n01639765', 'parent': 'n01471682', 'class': 'frog', 'leaf': 'True'}, {'children': [{'name': 'n02121620', 'parent': 'n01886756', 'class': 'cat', 'leaf': 'True'}, {'children': [{'name': 'n02374451', 'parent': 'n02370806', 'class': 'horse', 'leaf': 'True'}, {'name': 'n02430045', 'parent': 'n02370806', 'class': 'deer', 'leaf': 'True'}], 'parent': 'n01886756', 'name': 'n02370806', 'leaf': 'False'}], 'parent': 'n01471682', 'name': 'n01886756', 'leaf': 'False'}, {'name': 'n01503061', 'parent': 'n01471682', 'class': 'bird', 'leaf': 'True'}], 'parent': 'n00015388', 'name': 'n01471682', 'leaf': 'False'}, {'name': 'n02084071', 'parent': 'n00015388', 'class': 'dog', 'leaf': 'True'}], 'parent': 'fall11', 'name': 'n00015388', 'leaf': 'False'}], 'parent': 'root', 'name': 'fall11', 'leaf': 'False'}\n"
     ]
    }
   ],
   "source": [
    "tree_data = format_tree(root, 'root')\n",
    "print(tree_data)"
   ]
  },
  {
   "cell_type": "code",
   "execution_count": 93,
   "metadata": {
    "autoscroll": false,
    "collapsed": false,
    "ein.hycell": false,
    "ein.tags": "worksheet-0",
    "slideshow": {
     "slide_type": "-"
    }
   },
   "outputs": [],
   "source": [
    "json.dump(tree_data, open('cifar10_d3.json', 'w'))"
   ]
  }
 ],
 "metadata": {
  "kernelspec": {
   "argv": [
    "python",
    "-m",
    "ipykernel_launcher",
    "-f",
    "{connection_file}"
   ],
   "display_name": "Python 3",
   "env": null,
   "interrupt_mode": "signal",
   "language": "python",
   "metadata": null,
   "name": "python3"
  },
  "name": "create_tree_data.ipynb"
 },
 "nbformat": 4,
 "nbformat_minor": 2
}
